{
 "cells": [
  {
   "cell_type": "code",
   "execution_count": 3,
   "id": "220c02d4",
   "metadata": {},
   "outputs": [
    {
     "name": "stdout",
     "output_type": "stream",
     "text": [
      "Dados salvo no Google Driver\n",
      "https://docs.google.com/spreadsheets/d/1r0_Vs5QX1ef5X1MZCbDg8kcqm-my3rSn/edit?usp=sharing&ouid=108903987275959757465&rtpof=true&sd=true\n"
     ]
    }
   ],
   "source": [
    "# Dados para download\n",
    "Base_de_Dados = 'https://docs.google.com/spreadsheets/d/1r0_Vs5QX1ef5X1MZCbDg8kcqm-my3rSn/edit?usp=sharing&ouid=108903987275959757465&rtpof=true&sd=true'\n",
    "\n",
    "print('Dados salvo no Google Driver')\n",
    "print( Base_de_Dados )"
   ]
  },
  {
   "cell_type": "code",
   "execution_count": 5,
   "id": "98a6d7c4",
   "metadata": {},
   "outputs": [],
   "source": [
    "import numpy as np\n",
    "import pandas as pd\n",
    "import matplotlib.pyplot as plt\n",
    "import seaborn as sns\n",
    "import plotly.graph_objects as go\n",
    "import warnings\n",
    "warnings.filterwarnings('ignore')\n"
   ]
  },
  {
   "cell_type": "code",
   "execution_count": 6,
   "id": "f1556d03",
   "metadata": {},
   "outputs": [
    {
     "data": {
      "text/html": [
       "<div>\n",
       "<style scoped>\n",
       "    .dataframe tbody tr th:only-of-type {\n",
       "        vertical-align: middle;\n",
       "    }\n",
       "\n",
       "    .dataframe tbody tr th {\n",
       "        vertical-align: top;\n",
       "    }\n",
       "\n",
       "    .dataframe thead th {\n",
       "        text-align: right;\n",
       "    }\n",
       "</style>\n",
       "<table border=\"1\" class=\"dataframe\">\n",
       "  <thead>\n",
       "    <tr style=\"text-align: right;\">\n",
       "      <th></th>\n",
       "      <th>Data</th>\n",
       "      <th>Maior</th>\n",
       "      <th>Menor</th>\n",
       "      <th>Abertura</th>\n",
       "      <th>Fechamento</th>\n",
       "      <th>Volume</th>\n",
       "      <th>Adj Close</th>\n",
       "    </tr>\n",
       "  </thead>\n",
       "  <tbody>\n",
       "    <tr>\n",
       "      <th>0</th>\n",
       "      <td>2021-01-04</td>\n",
       "      <td>25.580000</td>\n",
       "      <td>24.870001</td>\n",
       "      <td>25.260000</td>\n",
       "      <td>25.200001</td>\n",
       "      <td>25706100</td>\n",
       "      <td>25.181740</td>\n",
       "    </tr>\n",
       "    <tr>\n",
       "      <th>1</th>\n",
       "      <td>2021-01-05</td>\n",
       "      <td>25.180000</td>\n",
       "      <td>24.340000</td>\n",
       "      <td>25.100000</td>\n",
       "      <td>24.760000</td>\n",
       "      <td>25431900</td>\n",
       "      <td>24.742058</td>\n",
       "    </tr>\n",
       "    <tr>\n",
       "      <th>2</th>\n",
       "      <td>2021-01-06</td>\n",
       "      <td>24.660000</td>\n",
       "      <td>23.420000</td>\n",
       "      <td>24.650000</td>\n",
       "      <td>23.459999</td>\n",
       "      <td>51799000</td>\n",
       "      <td>23.442999</td>\n",
       "    </tr>\n",
       "    <tr>\n",
       "      <th>3</th>\n",
       "      <td>2021-01-07</td>\n",
       "      <td>23.850000</td>\n",
       "      <td>22.950001</td>\n",
       "      <td>23.639999</td>\n",
       "      <td>23.160000</td>\n",
       "      <td>42146600</td>\n",
       "      <td>23.143217</td>\n",
       "    </tr>\n",
       "    <tr>\n",
       "      <th>4</th>\n",
       "      <td>2021-01-08</td>\n",
       "      <td>24.299999</td>\n",
       "      <td>23.020000</td>\n",
       "      <td>23.190001</td>\n",
       "      <td>23.840000</td>\n",
       "      <td>43988100</td>\n",
       "      <td>23.822723</td>\n",
       "    </tr>\n",
       "    <tr>\n",
       "      <th>...</th>\n",
       "      <td>...</td>\n",
       "      <td>...</td>\n",
       "      <td>...</td>\n",
       "      <td>...</td>\n",
       "      <td>...</td>\n",
       "      <td>...</td>\n",
       "      <td>...</td>\n",
       "    </tr>\n",
       "    <tr>\n",
       "      <th>242</th>\n",
       "      <td>2021-12-23</td>\n",
       "      <td>6.340000</td>\n",
       "      <td>5.990000</td>\n",
       "      <td>6.220000</td>\n",
       "      <td>6.200000</td>\n",
       "      <td>97106100</td>\n",
       "      <td>6.200000</td>\n",
       "    </tr>\n",
       "    <tr>\n",
       "      <th>243</th>\n",
       "      <td>2021-12-27</td>\n",
       "      <td>6.780000</td>\n",
       "      <td>6.230000</td>\n",
       "      <td>6.230000</td>\n",
       "      <td>6.780000</td>\n",
       "      <td>124279800</td>\n",
       "      <td>6.780000</td>\n",
       "    </tr>\n",
       "    <tr>\n",
       "      <th>244</th>\n",
       "      <td>2021-12-28</td>\n",
       "      <td>6.960000</td>\n",
       "      <td>6.640000</td>\n",
       "      <td>6.790000</td>\n",
       "      <td>6.830000</td>\n",
       "      <td>165573900</td>\n",
       "      <td>6.830000</td>\n",
       "    </tr>\n",
       "    <tr>\n",
       "      <th>245</th>\n",
       "      <td>2021-12-29</td>\n",
       "      <td>6.900000</td>\n",
       "      <td>6.700000</td>\n",
       "      <td>6.840000</td>\n",
       "      <td>6.760000</td>\n",
       "      <td>79247400</td>\n",
       "      <td>6.760000</td>\n",
       "    </tr>\n",
       "    <tr>\n",
       "      <th>246</th>\n",
       "      <td>2021-12-30</td>\n",
       "      <td>7.410000</td>\n",
       "      <td>6.770000</td>\n",
       "      <td>6.800000</td>\n",
       "      <td>7.220000</td>\n",
       "      <td>180329400</td>\n",
       "      <td>7.220000</td>\n",
       "    </tr>\n",
       "  </tbody>\n",
       "</table>\n",
       "<p>247 rows × 7 columns</p>\n",
       "</div>"
      ],
      "text/plain": [
       "          Data      Maior      Menor   Abertura  Fechamento     Volume  \\\n",
       "0   2021-01-04  25.580000  24.870001  25.260000   25.200001   25706100   \n",
       "1   2021-01-05  25.180000  24.340000  25.100000   24.760000   25431900   \n",
       "2   2021-01-06  24.660000  23.420000  24.650000   23.459999   51799000   \n",
       "3   2021-01-07  23.850000  22.950001  23.639999   23.160000   42146600   \n",
       "4   2021-01-08  24.299999  23.020000  23.190001   23.840000   43988100   \n",
       "..         ...        ...        ...        ...         ...        ...   \n",
       "242 2021-12-23   6.340000   5.990000   6.220000    6.200000   97106100   \n",
       "243 2021-12-27   6.780000   6.230000   6.230000    6.780000  124279800   \n",
       "244 2021-12-28   6.960000   6.640000   6.790000    6.830000  165573900   \n",
       "245 2021-12-29   6.900000   6.700000   6.840000    6.760000   79247400   \n",
       "246 2021-12-30   7.410000   6.770000   6.800000    7.220000  180329400   \n",
       "\n",
       "     Adj Close  \n",
       "0    25.181740  \n",
       "1    24.742058  \n",
       "2    23.442999  \n",
       "3    23.143217  \n",
       "4    23.822723  \n",
       "..         ...  \n",
       "242   6.200000  \n",
       "243   6.780000  \n",
       "244   6.830000  \n",
       "245   6.760000  \n",
       "246   7.220000  \n",
       "\n",
       "[247 rows x 7 columns]"
      ]
     },
     "execution_count": 6,
     "metadata": {},
     "output_type": "execute_result"
    }
   ],
   "source": [
    "Base_de_Dados = pd.read_excel('Vase_004 - Magalu - Sem Resolução.xlsx')\n",
    "Base_de_Dados"
   ]
  },
  {
   "cell_type": "code",
   "execution_count": 7,
   "id": "f90cc5dc",
   "metadata": {},
   "outputs": [
    {
     "data": {
      "text/plain": [
       "<bound method DataFrame.info of           Data      Maior      Menor   Abertura  Fechamento     Volume  \\\n",
       "0   2021-01-04  25.580000  24.870001  25.260000   25.200001   25706100   \n",
       "1   2021-01-05  25.180000  24.340000  25.100000   24.760000   25431900   \n",
       "2   2021-01-06  24.660000  23.420000  24.650000   23.459999   51799000   \n",
       "3   2021-01-07  23.850000  22.950001  23.639999   23.160000   42146600   \n",
       "4   2021-01-08  24.299999  23.020000  23.190001   23.840000   43988100   \n",
       "..         ...        ...        ...        ...         ...        ...   \n",
       "242 2021-12-23   6.340000   5.990000   6.220000    6.200000   97106100   \n",
       "243 2021-12-27   6.780000   6.230000   6.230000    6.780000  124279800   \n",
       "244 2021-12-28   6.960000   6.640000   6.790000    6.830000  165573900   \n",
       "245 2021-12-29   6.900000   6.700000   6.840000    6.760000   79247400   \n",
       "246 2021-12-30   7.410000   6.770000   6.800000    7.220000  180329400   \n",
       "\n",
       "     Adj Close  \n",
       "0    25.181740  \n",
       "1    24.742058  \n",
       "2    23.442999  \n",
       "3    23.143217  \n",
       "4    23.822723  \n",
       "..         ...  \n",
       "242   6.200000  \n",
       "243   6.780000  \n",
       "244   6.830000  \n",
       "245   6.760000  \n",
       "246   7.220000  \n",
       "\n",
       "[247 rows x 7 columns]>"
      ]
     },
     "execution_count": 7,
     "metadata": {},
     "output_type": "execute_result"
    }
   ],
   "source": [
    "Base_de_Dados.info"
   ]
  },
  {
   "cell_type": "code",
   "execution_count": 9,
   "id": "7523cffe",
   "metadata": {},
   "outputs": [
    {
     "data": {
      "text/html": [
       "<div>\n",
       "<style scoped>\n",
       "    .dataframe tbody tr th:only-of-type {\n",
       "        vertical-align: middle;\n",
       "    }\n",
       "\n",
       "    .dataframe tbody tr th {\n",
       "        vertical-align: top;\n",
       "    }\n",
       "\n",
       "    .dataframe thead th {\n",
       "        text-align: right;\n",
       "    }\n",
       "</style>\n",
       "<table border=\"1\" class=\"dataframe\">\n",
       "  <thead>\n",
       "    <tr style=\"text-align: right;\">\n",
       "      <th></th>\n",
       "      <th>Data</th>\n",
       "      <th>Maior</th>\n",
       "      <th>Menor</th>\n",
       "      <th>Abertura</th>\n",
       "      <th>Fechamento</th>\n",
       "      <th>Volume</th>\n",
       "      <th>Adj Close</th>\n",
       "    </tr>\n",
       "  </thead>\n",
       "  <tbody>\n",
       "    <tr>\n",
       "      <th>count</th>\n",
       "      <td>247</td>\n",
       "      <td>247.000000</td>\n",
       "      <td>247.000000</td>\n",
       "      <td>247.000000</td>\n",
       "      <td>247.000000</td>\n",
       "      <td>2.470000e+02</td>\n",
       "      <td>247.000000</td>\n",
       "    </tr>\n",
       "    <tr>\n",
       "      <th>mean</th>\n",
       "      <td>2021-07-02 21:28:25.263158016</td>\n",
       "      <td>18.977530</td>\n",
       "      <td>18.205668</td>\n",
       "      <td>18.629717</td>\n",
       "      <td>18.549555</td>\n",
       "      <td>4.536056e+07</td>\n",
       "      <td>18.541389</td>\n",
       "    </tr>\n",
       "    <tr>\n",
       "      <th>min</th>\n",
       "      <td>2021-01-04 00:00:00</td>\n",
       "      <td>6.200000</td>\n",
       "      <td>5.620000</td>\n",
       "      <td>5.710000</td>\n",
       "      <td>5.740000</td>\n",
       "      <td>8.716100e+06</td>\n",
       "      <td>5.740000</td>\n",
       "    </tr>\n",
       "    <tr>\n",
       "      <th>25%</th>\n",
       "      <td>2021-04-05 12:00:00</td>\n",
       "      <td>15.010000</td>\n",
       "      <td>14.275000</td>\n",
       "      <td>14.705000</td>\n",
       "      <td>14.555000</td>\n",
       "      <td>2.285200e+07</td>\n",
       "      <td>14.555000</td>\n",
       "    </tr>\n",
       "    <tr>\n",
       "      <th>50%</th>\n",
       "      <td>2021-07-02 00:00:00</td>\n",
       "      <td>20.650000</td>\n",
       "      <td>19.930000</td>\n",
       "      <td>20.280001</td>\n",
       "      <td>20.270000</td>\n",
       "      <td>3.130900e+07</td>\n",
       "      <td>20.255312</td>\n",
       "    </tr>\n",
       "    <tr>\n",
       "      <th>75%</th>\n",
       "      <td>2021-09-29 12:00:00</td>\n",
       "      <td>22.595000</td>\n",
       "      <td>21.985001</td>\n",
       "      <td>22.375000</td>\n",
       "      <td>22.200001</td>\n",
       "      <td>4.742785e+07</td>\n",
       "      <td>22.183912</td>\n",
       "    </tr>\n",
       "    <tr>\n",
       "      <th>max</th>\n",
       "      <td>2021-12-30 00:00:00</td>\n",
       "      <td>27.070000</td>\n",
       "      <td>25.900000</td>\n",
       "      <td>26.250000</td>\n",
       "      <td>26.240000</td>\n",
       "      <td>2.578313e+08</td>\n",
       "      <td>26.220984</td>\n",
       "    </tr>\n",
       "    <tr>\n",
       "      <th>std</th>\n",
       "      <td>NaN</td>\n",
       "      <td>5.632712</td>\n",
       "      <td>5.567061</td>\n",
       "      <td>5.602659</td>\n",
       "      <td>5.637050</td>\n",
       "      <td>4.082594e+07</td>\n",
       "      <td>5.631316</td>\n",
       "    </tr>\n",
       "  </tbody>\n",
       "</table>\n",
       "</div>"
      ],
      "text/plain": [
       "                                Data       Maior       Menor    Abertura  \\\n",
       "count                            247  247.000000  247.000000  247.000000   \n",
       "mean   2021-07-02 21:28:25.263158016   18.977530   18.205668   18.629717   \n",
       "min              2021-01-04 00:00:00    6.200000    5.620000    5.710000   \n",
       "25%              2021-04-05 12:00:00   15.010000   14.275000   14.705000   \n",
       "50%              2021-07-02 00:00:00   20.650000   19.930000   20.280001   \n",
       "75%              2021-09-29 12:00:00   22.595000   21.985001   22.375000   \n",
       "max              2021-12-30 00:00:00   27.070000   25.900000   26.250000   \n",
       "std                              NaN    5.632712    5.567061    5.602659   \n",
       "\n",
       "       Fechamento        Volume   Adj Close  \n",
       "count  247.000000  2.470000e+02  247.000000  \n",
       "mean    18.549555  4.536056e+07   18.541389  \n",
       "min      5.740000  8.716100e+06    5.740000  \n",
       "25%     14.555000  2.285200e+07   14.555000  \n",
       "50%     20.270000  3.130900e+07   20.255312  \n",
       "75%     22.200001  4.742785e+07   22.183912  \n",
       "max     26.240000  2.578313e+08   26.220984  \n",
       "std      5.637050  4.082594e+07    5.631316  "
      ]
     },
     "execution_count": 9,
     "metadata": {},
     "output_type": "execute_result"
    }
   ],
   "source": [
    "Base_de_Dados.describe()"
   ]
  },
  {
   "cell_type": "code",
   "execution_count": 10,
   "id": "7693357f",
   "metadata": {},
   "outputs": [
    {
     "data": {
      "text/html": [
       "<div>\n",
       "<style scoped>\n",
       "    .dataframe tbody tr th:only-of-type {\n",
       "        vertical-align: middle;\n",
       "    }\n",
       "\n",
       "    .dataframe tbody tr th {\n",
       "        vertical-align: top;\n",
       "    }\n",
       "\n",
       "    .dataframe thead th {\n",
       "        text-align: right;\n",
       "    }\n",
       "</style>\n",
       "<table border=\"1\" class=\"dataframe\">\n",
       "  <thead>\n",
       "    <tr style=\"text-align: right;\">\n",
       "      <th></th>\n",
       "      <th>Maior</th>\n",
       "      <th>Menor</th>\n",
       "      <th>Abertura</th>\n",
       "      <th>Fechamento</th>\n",
       "      <th>Volume</th>\n",
       "      <th>Adj Close</th>\n",
       "    </tr>\n",
       "    <tr>\n",
       "      <th>Data</th>\n",
       "      <th></th>\n",
       "      <th></th>\n",
       "      <th></th>\n",
       "      <th></th>\n",
       "      <th></th>\n",
       "      <th></th>\n",
       "    </tr>\n",
       "  </thead>\n",
       "  <tbody>\n",
       "    <tr>\n",
       "      <th>2021-01-04</th>\n",
       "      <td>25.580000</td>\n",
       "      <td>24.870001</td>\n",
       "      <td>25.260000</td>\n",
       "      <td>25.200001</td>\n",
       "      <td>25706100</td>\n",
       "      <td>25.181740</td>\n",
       "    </tr>\n",
       "    <tr>\n",
       "      <th>2021-01-05</th>\n",
       "      <td>25.180000</td>\n",
       "      <td>24.340000</td>\n",
       "      <td>25.100000</td>\n",
       "      <td>24.760000</td>\n",
       "      <td>25431900</td>\n",
       "      <td>24.742058</td>\n",
       "    </tr>\n",
       "    <tr>\n",
       "      <th>2021-01-06</th>\n",
       "      <td>24.660000</td>\n",
       "      <td>23.420000</td>\n",
       "      <td>24.650000</td>\n",
       "      <td>23.459999</td>\n",
       "      <td>51799000</td>\n",
       "      <td>23.442999</td>\n",
       "    </tr>\n",
       "    <tr>\n",
       "      <th>2021-01-07</th>\n",
       "      <td>23.850000</td>\n",
       "      <td>22.950001</td>\n",
       "      <td>23.639999</td>\n",
       "      <td>23.160000</td>\n",
       "      <td>42146600</td>\n",
       "      <td>23.143217</td>\n",
       "    </tr>\n",
       "    <tr>\n",
       "      <th>2021-01-08</th>\n",
       "      <td>24.299999</td>\n",
       "      <td>23.020000</td>\n",
       "      <td>23.190001</td>\n",
       "      <td>23.840000</td>\n",
       "      <td>43988100</td>\n",
       "      <td>23.822723</td>\n",
       "    </tr>\n",
       "  </tbody>\n",
       "</table>\n",
       "</div>"
      ],
      "text/plain": [
       "                Maior      Menor   Abertura  Fechamento    Volume  Adj Close\n",
       "Data                                                                        \n",
       "2021-01-04  25.580000  24.870001  25.260000   25.200001  25706100  25.181740\n",
       "2021-01-05  25.180000  24.340000  25.100000   24.760000  25431900  24.742058\n",
       "2021-01-06  24.660000  23.420000  24.650000   23.459999  51799000  23.442999\n",
       "2021-01-07  23.850000  22.950001  23.639999   23.160000  42146600  23.143217\n",
       "2021-01-08  24.299999  23.020000  23.190001   23.840000  43988100  23.822723"
      ]
     },
     "execution_count": 10,
     "metadata": {},
     "output_type": "execute_result"
    }
   ],
   "source": [
    "#series temporais\n",
    "\n",
    "dados = Base_de_Dados.set_index('Data')\n",
    "dados.head()"
   ]
  },
  {
   "cell_type": "code",
   "execution_count": 17,
   "id": "320fdf9b",
   "metadata": {},
   "outputs": [
    {
     "data": {
      "text/plain": [
       "Text(0, 0.5, 'Valor da Ação')"
      ]
     },
     "execution_count": 17,
     "metadata": {},
     "output_type": "execute_result"
    },
    {
     "data": {
      "image/png": "[encoded data removed]",
      "text/plain": [
       "<Figure size 1600x500 with 1 Axes>"
      ]
     },
     "metadata": {},
     "output_type": "display_data"
    }
   ],
   "source": [
    "\n",
    "plt.figure(figsize=(16,5))\n",
    "plt.title('Analise das ações da Magalu - Fechamento')\n",
    "plt.plot(dados.index, dados['Fechamento'])\n",
    "plt.xlabel('Periodo da Cotação')\n",
    "plt.ylabel('Valor da Ação')"
   ]
  },
  {
   "cell_type": "code",
   "execution_count": 18,
   "id": "544c498c",
   "metadata": {},
   "outputs": [
    {
     "data": {
      "text/html": [
       "<div>\n",
       "<style scoped>\n",
       "    .dataframe tbody tr th:only-of-type {\n",
       "        vertical-align: middle;\n",
       "    }\n",
       "\n",
       "    .dataframe tbody tr th {\n",
       "        vertical-align: top;\n",
       "    }\n",
       "\n",
       "    .dataframe thead th {\n",
       "        text-align: right;\n",
       "    }\n",
       "</style>\n",
       "<table border=\"1\" class=\"dataframe\">\n",
       "  <thead>\n",
       "    <tr style=\"text-align: right;\">\n",
       "      <th></th>\n",
       "      <th>Maior</th>\n",
       "      <th>Menor</th>\n",
       "      <th>Abertura</th>\n",
       "      <th>Fechamento</th>\n",
       "      <th>Volume</th>\n",
       "      <th>Adj Close</th>\n",
       "    </tr>\n",
       "    <tr>\n",
       "      <th>Data</th>\n",
       "      <th></th>\n",
       "      <th></th>\n",
       "      <th></th>\n",
       "      <th></th>\n",
       "      <th></th>\n",
       "      <th></th>\n",
       "    </tr>\n",
       "  </thead>\n",
       "  <tbody>\n",
       "    <tr>\n",
       "      <th>2021-12-23</th>\n",
       "      <td>6.34</td>\n",
       "      <td>5.99</td>\n",
       "      <td>6.22</td>\n",
       "      <td>6.20</td>\n",
       "      <td>97106100</td>\n",
       "      <td>6.20</td>\n",
       "    </tr>\n",
       "    <tr>\n",
       "      <th>2021-12-27</th>\n",
       "      <td>6.78</td>\n",
       "      <td>6.23</td>\n",
       "      <td>6.23</td>\n",
       "      <td>6.78</td>\n",
       "      <td>124279800</td>\n",
       "      <td>6.78</td>\n",
       "    </tr>\n",
       "    <tr>\n",
       "      <th>2021-12-28</th>\n",
       "      <td>6.96</td>\n",
       "      <td>6.64</td>\n",
       "      <td>6.79</td>\n",
       "      <td>6.83</td>\n",
       "      <td>165573900</td>\n",
       "      <td>6.83</td>\n",
       "    </tr>\n",
       "    <tr>\n",
       "      <th>2021-12-29</th>\n",
       "      <td>6.90</td>\n",
       "      <td>6.70</td>\n",
       "      <td>6.84</td>\n",
       "      <td>6.76</td>\n",
       "      <td>79247400</td>\n",
       "      <td>6.76</td>\n",
       "    </tr>\n",
       "    <tr>\n",
       "      <th>2021-12-30</th>\n",
       "      <td>7.41</td>\n",
       "      <td>6.77</td>\n",
       "      <td>6.80</td>\n",
       "      <td>7.22</td>\n",
       "      <td>180329400</td>\n",
       "      <td>7.22</td>\n",
       "    </tr>\n",
       "  </tbody>\n",
       "</table>\n",
       "</div>"
      ],
      "text/plain": [
       "            Maior  Menor  Abertura  Fechamento     Volume  Adj Close\n",
       "Data                                                                \n",
       "2021-12-23   6.34   5.99      6.22        6.20   97106100       6.20\n",
       "2021-12-27   6.78   6.23      6.23        6.78  124279800       6.78\n",
       "2021-12-28   6.96   6.64      6.79        6.83  165573900       6.83\n",
       "2021-12-29   6.90   6.70      6.84        6.76   79247400       6.76\n",
       "2021-12-30   7.41   6.77      6.80        7.22  180329400       7.22"
      ]
     },
     "execution_count": 18,
     "metadata": {},
     "output_type": "execute_result"
    }
   ],
   "source": [
    "dados.tail()"
   ]
  },
  {
   "cell_type": "code",
   "execution_count": null,
   "id": "1868ca06",
   "metadata": {},
   "outputs": [
    {
     "data": {
      "text/plain": [
       "Text(0, 0.5, 'Valor da Ação')"
      ]
     },
     "execution_count": 25,
     "metadata": {},
     "output_type": "execute_result"
    },
    {
     "data": {
      "image/png": "[encoded data removed]",
      "text/plain": [
       "<Figure size 1600x500 with 1 Axes>"
      ]
     },
     "metadata": {},
     "output_type": "display_data"
    }
   ],
   "source": [
    "\n",
    "media_movel = dados['Fechamento'].rolling(5).mean()\n",
    "media_tendencia = dados['Fechamento'].rolling(30).mean()\n",
    "\n",
    "\n",
    "plt.figure(figsize=(16,5))\n",
    "plt.title('Analise das ações da Magalu - Fechamento')\n",
    "\n",
    "plt.plot(dados.index, dados['Fechamento'])\n",
    "plt.plot(dados.index, media_movel)\n",
    "plt.plot(dados.index, media_tendencia)\n",
    "\n",
    "plt.xlabel('Periodo da Cotação')\n",
    "plt.ylabel('Valor da Ação')"
   ]
  },
  {
   "cell_type": "code",
   "execution_count": 26,
   "id": "6d476e8e",
   "metadata": {},
   "outputs": [
    {
     "data": {
      "text/plain": [
       "<Axes: xlabel='Fechamento'>"
      ]
     },
     "execution_count": 26,
     "metadata": {},
     "output_type": "execute_result"
    },
    {
     "data": {
      "image/png": "[encoded data removed]",
      "text/plain": [
       "<Figure size 640x480 with 1 Axes>"
      ]
     },
     "metadata": {},
     "output_type": "display_data"
    }
   ],
   "source": [
    "sns.boxenplot(data=dados,x='Fechamento')"
   ]
  },
  {
   "cell_type": "code",
   "execution_count": 28,
   "id": "4defc667",
   "metadata": {},
   "outputs": [
    {
     "data": {
      "text/plain": [
       "<Axes: xlabel='Mes', ylabel='Fechamento'>"
      ]
     },
     "execution_count": 28,
     "metadata": {},
     "output_type": "execute_result"
    },
    {
     "data": {
      "image/png": "[encoded data removed]",
      "text/plain": [
       "<Figure size 640x480 with 1 Axes>"
      ]
     },
     "metadata": {},
     "output_type": "display_data"
    }
   ],
   "source": [
    "Base_de_Dados['Mes'] = Base_de_Dados['Data'].dt.month\n",
    "\n",
    "plt.Figure(figsize=(16,5))\n",
    "sns.boxplot(data=Base_de_Dados, x='Mes', y='Fechamento')"
   ]
  },
  {
   "cell_type": "code",
   "execution_count": 29,
   "id": "8b8c2aa4",
   "metadata": {},
   "outputs": [
    {
     "data": {
      "text/html": [
       "<div>\n",
       "<style scoped>\n",
       "    .dataframe tbody tr th:only-of-type {\n",
       "        vertical-align: middle;\n",
       "    }\n",
       "\n",
       "    .dataframe tbody tr th {\n",
       "        vertical-align: top;\n",
       "    }\n",
       "\n",
       "    .dataframe thead th {\n",
       "        text-align: right;\n",
       "    }\n",
       "</style>\n",
       "<table border=\"1\" class=\"dataframe\">\n",
       "  <thead>\n",
       "    <tr style=\"text-align: right;\">\n",
       "      <th></th>\n",
       "      <th>count</th>\n",
       "      <th>mean</th>\n",
       "      <th>min</th>\n",
       "      <th>25%</th>\n",
       "      <th>50%</th>\n",
       "      <th>75%</th>\n",
       "      <th>max</th>\n",
       "      <th>std</th>\n",
       "    </tr>\n",
       "    <tr>\n",
       "      <th>Mes</th>\n",
       "      <th></th>\n",
       "      <th></th>\n",
       "      <th></th>\n",
       "      <th></th>\n",
       "      <th></th>\n",
       "      <th></th>\n",
       "      <th></th>\n",
       "      <th></th>\n",
       "    </tr>\n",
       "  </thead>\n",
       "  <tbody>\n",
       "    <tr>\n",
       "      <th>1</th>\n",
       "      <td>19.0</td>\n",
       "      <td>24.644737</td>\n",
       "      <td>23.160000</td>\n",
       "      <td>23.900000</td>\n",
       "      <td>24.450001</td>\n",
       "      <td>25.455000</td>\n",
       "      <td>26.190001</td>\n",
       "      <td>0.960280</td>\n",
       "    </tr>\n",
       "    <tr>\n",
       "      <th>2</th>\n",
       "      <td>18.0</td>\n",
       "      <td>25.208889</td>\n",
       "      <td>24.049999</td>\n",
       "      <td>24.877501</td>\n",
       "      <td>25.299999</td>\n",
       "      <td>25.650000</td>\n",
       "      <td>26.240000</td>\n",
       "      <td>0.656021</td>\n",
       "    </tr>\n",
       "    <tr>\n",
       "      <th>3</th>\n",
       "      <td>23.0</td>\n",
       "      <td>22.855217</td>\n",
       "      <td>19.650000</td>\n",
       "      <td>20.940001</td>\n",
       "      <td>23.389999</td>\n",
       "      <td>24.559999</td>\n",
       "      <td>25.440001</td>\n",
       "      <td>1.976698</td>\n",
       "    </tr>\n",
       "    <tr>\n",
       "      <th>4</th>\n",
       "      <td>20.0</td>\n",
       "      <td>21.249000</td>\n",
       "      <td>20.030001</td>\n",
       "      <td>20.560000</td>\n",
       "      <td>21.625000</td>\n",
       "      <td>21.760000</td>\n",
       "      <td>22.200001</td>\n",
       "      <td>0.735297</td>\n",
       "    </tr>\n",
       "    <tr>\n",
       "      <th>5</th>\n",
       "      <td>21.0</td>\n",
       "      <td>19.430476</td>\n",
       "      <td>18.530001</td>\n",
       "      <td>18.969999</td>\n",
       "      <td>19.459999</td>\n",
       "      <td>19.900000</td>\n",
       "      <td>20.250000</td>\n",
       "      <td>0.564973</td>\n",
       "    </tr>\n",
       "    <tr>\n",
       "      <th>6</th>\n",
       "      <td>21.0</td>\n",
       "      <td>20.898095</td>\n",
       "      <td>20.270000</td>\n",
       "      <td>20.500000</td>\n",
       "      <td>20.889999</td>\n",
       "      <td>21.270000</td>\n",
       "      <td>21.670000</td>\n",
       "      <td>0.463116</td>\n",
       "    </tr>\n",
       "    <tr>\n",
       "      <th>7</th>\n",
       "      <td>21.0</td>\n",
       "      <td>22.232857</td>\n",
       "      <td>20.600000</td>\n",
       "      <td>21.530001</td>\n",
       "      <td>22.040001</td>\n",
       "      <td>23.120001</td>\n",
       "      <td>23.900000</td>\n",
       "      <td>0.977574</td>\n",
       "    </tr>\n",
       "    <tr>\n",
       "      <th>8</th>\n",
       "      <td>22.0</td>\n",
       "      <td>19.656818</td>\n",
       "      <td>18.129999</td>\n",
       "      <td>18.897500</td>\n",
       "      <td>19.485000</td>\n",
       "      <td>20.452499</td>\n",
       "      <td>20.969999</td>\n",
       "      <td>0.885827</td>\n",
       "    </tr>\n",
       "    <tr>\n",
       "      <th>9</th>\n",
       "      <td>21.0</td>\n",
       "      <td>16.746191</td>\n",
       "      <td>13.940000</td>\n",
       "      <td>15.870000</td>\n",
       "      <td>16.570000</td>\n",
       "      <td>18.010000</td>\n",
       "      <td>19.480000</td>\n",
       "      <td>1.628581</td>\n",
       "    </tr>\n",
       "    <tr>\n",
       "      <th>10</th>\n",
       "      <td>20.0</td>\n",
       "      <td>13.350000</td>\n",
       "      <td>10.810000</td>\n",
       "      <td>12.392500</td>\n",
       "      <td>13.720000</td>\n",
       "      <td>14.400000</td>\n",
       "      <td>14.970000</td>\n",
       "      <td>1.267667</td>\n",
       "    </tr>\n",
       "    <tr>\n",
       "      <th>11</th>\n",
       "      <td>20.0</td>\n",
       "      <td>10.269000</td>\n",
       "      <td>7.800000</td>\n",
       "      <td>8.790000</td>\n",
       "      <td>9.505000</td>\n",
       "      <td>11.645000</td>\n",
       "      <td>13.650000</td>\n",
       "      <td>1.892355</td>\n",
       "    </tr>\n",
       "    <tr>\n",
       "      <th>12</th>\n",
       "      <td>21.0</td>\n",
       "      <td>6.609048</td>\n",
       "      <td>5.740000</td>\n",
       "      <td>6.280000</td>\n",
       "      <td>6.660000</td>\n",
       "      <td>6.830000</td>\n",
       "      <td>7.620000</td>\n",
       "      <td>0.461486</td>\n",
       "    </tr>\n",
       "  </tbody>\n",
       "</table>\n",
       "</div>"
      ],
      "text/plain": [
       "     count       mean        min        25%        50%        75%        max  \\\n",
       "Mes                                                                            \n",
       "1     19.0  24.644737  23.160000  23.900000  24.450001  25.455000  26.190001   \n",
       "2     18.0  25.208889  24.049999  24.877501  25.299999  25.650000  26.240000   \n",
       "3     23.0  22.855217  19.650000  20.940001  23.389999  24.559999  25.440001   \n",
       "4     20.0  21.249000  20.030001  20.560000  21.625000  21.760000  22.200001   \n",
       "5     21.0  19.430476  18.530001  18.969999  19.459999  19.900000  20.250000   \n",
       "6     21.0  20.898095  20.270000  20.500000  20.889999  21.270000  21.670000   \n",
       "7     21.0  22.232857  20.600000  21.530001  22.040001  23.120001  23.900000   \n",
       "8     22.0  19.656818  18.129999  18.897500  19.485000  20.452499  20.969999   \n",
       "9     21.0  16.746191  13.940000  15.870000  16.570000  18.010000  19.480000   \n",
       "10    20.0  13.350000  10.810000  12.392500  13.720000  14.400000  14.970000   \n",
       "11    20.0  10.269000   7.800000   8.790000   9.505000  11.645000  13.650000   \n",
       "12    21.0   6.609048   5.740000   6.280000   6.660000   6.830000   7.620000   \n",
       "\n",
       "          std  \n",
       "Mes            \n",
       "1    0.960280  \n",
       "2    0.656021  \n",
       "3    1.976698  \n",
       "4    0.735297  \n",
       "5    0.564973  \n",
       "6    0.463116  \n",
       "7    0.977574  \n",
       "8    0.885827  \n",
       "9    1.628581  \n",
       "10   1.267667  \n",
       "11   1.892355  \n",
       "12   0.461486  "
      ]
     },
     "execution_count": 29,
     "metadata": {},
     "output_type": "execute_result"
    }
   ],
   "source": [
    "Base_de_Dados.groupby(['Mes']).describe()['Fechamento']"
   ]
  },
  {
   "cell_type": "code",
   "execution_count": null,
   "id": "aa123d19",
   "metadata": {},
   "outputs": [
    {
     "data": {
      "application/vnd.plotly.v1+json": {
       "config": {
        "plotlyServerURL": "https://plot.ly"
       },
       "data": [
        {
         "close": {
          "bdata": "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",
          "dtype": "f8"
         },
         "high": {
          "bdata": "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",
          "dtype": "f8"
         },
         "low": {
          "bdata": "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",
          "dtype": "f8"
         },
         "open": {
          "bdata": "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",
          "dtype": "f8"
         },
         "type": "candlestick",
         "x": [
          "2021-01-04T00:00:00.000000000",
          "2021-01-05T00:00:00.000000000",
          "2021-01-06T00:00:00.000000000",
          "2021-01-07T00:00:00.000000000",
          "2021-01-08T00:00:00.000000000",
          "2021-01-11T00:00:00.000000000",
          "2021-01-12T00:00:00.000000000",
          "2021-01-13T00:00:00.000000000",
          "2021-01-14T00:00:00.000000000",
          "2021-01-15T00:00:00.000000000",
          "2021-01-18T00:00:00.000000000",
          "2021-01-19T00:00:00.000000000",
          "2021-01-20T00:00:00.000000000",
          "2021-01-21T00:00:00.000000000",
          "2021-01-22T00:00:00.000000000",
          "2021-01-26T00:00:00.000000000",
          "2021-01-27T00:00:00.000000000",
          "2021-01-28T00:00:00.000000000",
          "2021-01-29T00:00:00.000000000",
          "2021-02-01T00:00:00.000000000",
          "2021-02-02T00:00:00.000000000",
          "2021-02-03T00:00:00.000000000",
          "2021-02-04T00:00:00.000000000",
          "2021-02-05T00:00:00.000000000",
          "2021-02-08T00:00:00.000000000",
          "2021-02-09T00:00:00.000000000",
          "2021-02-10T00:00:00.000000000",
          "2021-02-11T00:00:00.000000000",
          "2021-02-12T00:00:00.000000000",
          "2021-02-17T00:00:00.000000000",
          "2021-02-18T00:00:00.000000000",
          "2021-02-19T00:00:00.000000000",
          "2021-02-22T00:00:00.000000000",
          "2021-02-23T00:00:00.000000000",
          "2021-02-24T00:00:00.000000000",
          "2021-02-25T00:00:00.000000000",
          "2021-02-26T00:00:00.000000000",
          "2021-03-01T00:00:00.000000000",
          "2021-03-02T00:00:00.000000000",
          "2021-03-03T00:00:00.000000000",
          "2021-03-04T00:00:00.000000000",
          "2021-03-05T00:00:00.000000000",
          "2021-03-08T00:00:00.000000000",
          "2021-03-09T00:00:00.000000000",
          "2021-03-10T00:00:00.000000000",
          "2021-03-11T00:00:00.000000000",
          "2021-03-12T00:00:00.000000000",
          "2021-03-15T00:00:00.000000000",
          "2021-03-16T00:00:00.000000000",
          "2021-03-17T00:00:00.000000000",
          "2021-03-18T00:00:00.000000000",
          "2021-03-19T00:00:00.000000000",
          "2021-03-22T00:00:00.000000000",
          "2021-03-23T00:00:00.000000000",
          "2021-03-24T00:00:00.000000000",
          "2021-03-25T00:00:00.000000000",
          "2021-03-26T00:00:00.000000000",
          "2021-03-29T00:00:00.000000000",
          "2021-03-30T00:00:00.000000000",
          "2021-03-31T00:00:00.000000000",
          "2021-04-01T00:00:00.000000000",
          "2021-04-05T00:00:00.000000000",
          "2021-04-06T00:00:00.000000000",
          "2021-04-07T00:00:00.000000000",
          "2021-04-08T00:00:00.000000000",
          "2021-04-09T00:00:00.000000000",
          "2021-04-12T00:00:00.000000000",
          "2021-04-13T00:00:00.000000000",
          "2021-04-14T00:00:00.000000000",
          "2021-04-15T00:00:00.000000000",
          "2021-04-16T00:00:00.000000000",
          "2021-04-19T00:00:00.000000000",
          "2021-04-20T00:00:00.000000000",
          "2021-04-22T00:00:00.000000000",
          "2021-04-23T00:00:00.000000000",
          "2021-04-26T00:00:00.000000000",
          "2021-04-27T00:00:00.000000000",
          "2021-04-28T00:00:00.000000000",
          "2021-04-29T00:00:00.000000000",
          "2021-04-30T00:00:00.000000000",
          "2021-05-03T00:00:00.000000000",
          "2021-05-04T00:00:00.000000000",
          "2021-05-05T00:00:00.000000000",
          "2021-05-06T00:00:00.000000000",
          "2021-05-07T00:00:00.000000000",
          "2021-05-10T00:00:00.000000000",
          "2021-05-11T00:00:00.000000000",
          "2021-05-12T00:00:00.000000000",
          "2021-05-13T00:00:00.000000000",
          "2021-05-14T00:00:00.000000000",
          "2021-05-17T00:00:00.000000000",
          "2021-05-18T00:00:00.000000000",
          "2021-05-19T00:00:00.000000000",
          "2021-05-20T00:00:00.000000000",
          "2021-05-21T00:00:00.000000000",
          "2021-05-24T00:00:00.000000000",
          "2021-05-25T00:00:00.000000000",
          "2021-05-26T00:00:00.000000000",
          "2021-05-27T00:00:00.000000000",
          "2021-05-28T00:00:00.000000000",
          "2021-05-31T00:00:00.000000000",
          "2021-06-01T00:00:00.000000000",
          "2021-06-02T00:00:00.000000000",
          "2021-06-04T00:00:00.000000000",
          "2021-06-07T00:00:00.000000000",
          "2021-06-08T00:00:00.000000000",
          "2021-06-09T00:00:00.000000000",
          "2021-06-10T00:00:00.000000000",
          "2021-06-11T00:00:00.000000000",
          "2021-06-14T00:00:00.000000000",
          "2021-06-15T00:00:00.000000000",
          "2021-06-16T00:00:00.000000000",
          "2021-06-17T00:00:00.000000000",
          "2021-06-18T00:00:00.000000000",
          "2021-06-21T00:00:00.000000000",
          "2021-06-22T00:00:00.000000000",
          "2021-06-23T00:00:00.000000000",
          "2021-06-24T00:00:00.000000000",
          "2021-06-25T00:00:00.000000000",
          "2021-06-28T00:00:00.000000000",
          "2021-06-29T00:00:00.000000000",
          "2021-06-30T00:00:00.000000000",
          "2021-07-01T00:00:00.000000000",
          "2021-07-02T00:00:00.000000000",
          "2021-07-05T00:00:00.000000000",
          "2021-07-06T00:00:00.000000000",
          "2021-07-07T00:00:00.000000000",
          "2021-07-08T00:00:00.000000000",
          "2021-07-12T00:00:00.000000000",
          "2021-07-13T00:00:00.000000000",
          "2021-07-14T00:00:00.000000000",
          "2021-07-15T00:00:00.000000000",
          "2021-07-16T00:00:00.000000000",
          "2021-07-19T00:00:00.000000000",
          "2021-07-20T00:00:00.000000000",
          "2021-07-21T00:00:00.000000000",
          "2021-07-22T00:00:00.000000000",
          "2021-07-23T00:00:00.000000000",
          "2021-07-26T00:00:00.000000000",
          "2021-07-27T00:00:00.000000000",
          "2021-07-28T00:00:00.000000000",
          "2021-07-29T00:00:00.000000000",
          "2021-07-30T00:00:00.000000000",
          "2021-08-02T00:00:00.000000000",
          "2021-08-03T00:00:00.000000000",
          "2021-08-04T00:00:00.000000000",
          "2021-08-05T00:00:00.000000000",
          "2021-08-06T00:00:00.000000000",
          "2021-08-09T00:00:00.000000000",
          "2021-08-10T00:00:00.000000000",
          "2021-08-11T00:00:00.000000000",
          "2021-08-12T00:00:00.000000000",
          "2021-08-13T00:00:00.000000000",
          "2021-08-16T00:00:00.000000000",
          "2021-08-17T00:00:00.000000000",
          "2021-08-18T00:00:00.000000000",
          "2021-08-19T00:00:00.000000000",
          "2021-08-20T00:00:00.000000000",
          "2021-08-23T00:00:00.000000000",
          "2021-08-24T00:00:00.000000000",
          "2021-08-25T00:00:00.000000000",
          "2021-08-26T00:00:00.000000000",
          "2021-08-27T00:00:00.000000000",
          "2021-08-30T00:00:00.000000000",
          "2021-08-31T00:00:00.000000000",
          "2021-09-01T00:00:00.000000000",
          "2021-09-02T00:00:00.000000000",
          "2021-09-03T00:00:00.000000000",
          "2021-09-06T00:00:00.000000000",
          "2021-09-08T00:00:00.000000000",
          "2021-09-09T00:00:00.000000000",
          "2021-09-10T00:00:00.000000000",
          "2021-09-13T00:00:00.000000000",
          "2021-09-14T00:00:00.000000000",
          "2021-09-15T00:00:00.000000000",
          "2021-09-16T00:00:00.000000000",
          "2021-09-17T00:00:00.000000000",
          "2021-09-20T00:00:00.000000000",
          "2021-09-21T00:00:00.000000000",
          "2021-09-22T00:00:00.000000000",
          "2021-09-23T00:00:00.000000000",
          "2021-09-24T00:00:00.000000000",
          "2021-09-27T00:00:00.000000000",
          "2021-09-28T00:00:00.000000000",
          "2021-09-29T00:00:00.000000000",
          "2021-09-30T00:00:00.000000000",
          "2021-10-01T00:00:00.000000000",
          "2021-10-04T00:00:00.000000000",
          "2021-10-05T00:00:00.000000000",
          "2021-10-06T00:00:00.000000000",
          "2021-10-07T00:00:00.000000000",
          "2021-10-08T00:00:00.000000000",
          "2021-10-11T00:00:00.000000000",
          "2021-10-13T00:00:00.000000000",
          "2021-10-14T00:00:00.000000000",
          "2021-10-15T00:00:00.000000000",
          "2021-10-18T00:00:00.000000000",
          "2021-10-19T00:00:00.000000000",
          "2021-10-20T00:00:00.000000000",
          "2021-10-21T00:00:00.000000000",
          "2021-10-22T00:00:00.000000000",
          "2021-10-25T00:00:00.000000000",
          "2021-10-26T00:00:00.000000000",
          "2021-10-27T00:00:00.000000000",
          "2021-10-28T00:00:00.000000000",
          "2021-10-29T00:00:00.000000000",
          "2021-11-01T00:00:00.000000000",
          "2021-11-03T00:00:00.000000000",
          "2021-11-04T00:00:00.000000000",
          "2021-11-05T00:00:00.000000000",
          "2021-11-08T00:00:00.000000000",
          "2021-11-09T00:00:00.000000000",
          "2021-11-10T00:00:00.000000000",
          "2021-11-11T00:00:00.000000000",
          "2021-11-12T00:00:00.000000000",
          "2021-11-16T00:00:00.000000000",
          "2021-11-17T00:00:00.000000000",
          "2021-11-18T00:00:00.000000000",
          "2021-11-19T00:00:00.000000000",
          "2021-11-22T00:00:00.000000000",
          "2021-11-23T00:00:00.000000000",
          "2021-11-24T00:00:00.000000000",
          "2021-11-25T00:00:00.000000000",
          "2021-11-26T00:00:00.000000000",
          "2021-11-29T00:00:00.000000000",
          "2021-11-30T00:00:00.000000000",
          "2021-12-01T00:00:00.000000000",
          "2021-12-02T00:00:00.000000000",
          "2021-12-03T00:00:00.000000000",
          "2021-12-06T00:00:00.000000000",
          "2021-12-07T00:00:00.000000000",
          "2021-12-08T00:00:00.000000000",
          "2021-12-09T00:00:00.000000000",
          "2021-12-10T00:00:00.000000000",
          "2021-12-13T00:00:00.000000000",
          "2021-12-14T00:00:00.000000000",
          "2021-12-15T00:00:00.000000000",
          "2021-12-16T00:00:00.000000000",
          "2021-12-17T00:00:00.000000000",
          "2021-12-20T00:00:00.000000000",
          "2021-12-21T00:00:00.000000000",
          "2021-12-22T00:00:00.000000000",
          "2021-12-23T00:00:00.000000000",
          "2021-12-27T00:00:00.000000000",
          "2021-12-28T00:00:00.000000000",
          "2021-12-29T00:00:00.000000000",
          "2021-12-30T00:00:00.000000000"
         ]
        }
       ],
       "layout": {
        "template": {
         "data": {
          "bar": [
           {
            "error_x": {
             "color": "#2a3f5f"
            },
            "error_y": {
             "color": "#2a3f5f"
            },
            "marker": {
             "line": {
              "color": "#E5ECF6",
              "width": 0.5
             },
             "pattern": {
              "fillmode": "overlay",
              "size": 10,
              "solidity": 0.2
             }
            },
            "type": "bar"
           }
          ],
          "barpolar": [
           {
            "marker": {
             "line": {
              "color": "#E5ECF6",
              "width": 0.5
             },
             "pattern": {
              "fillmode": "overlay",
              "size": 10,
              "solidity": 0.2
             }
            },
            "type": "barpolar"
           }
          ],
          "carpet": [
           {
            "aaxis": {
             "endlinecolor": "#2a3f5f",
             "gridcolor": "white",
             "linecolor": "white",
             "minorgridcolor": "white",
             "startlinecolor": "#2a3f5f"
            },
            "baxis": {
             "endlinecolor": "#2a3f5f",
             "gridcolor": "white",
             "linecolor": "white",
             "minorgridcolor": "white",
             "startlinecolor": "#2a3f5f"
            },
            "type": "carpet"
           }
          ],
          "choropleth": [
           {
            "colorbar": {
             "outlinewidth": 0,
             "ticks": ""
            },
            "type": "choropleth"
           }
          ],
          "contour": [
           {
            "colorbar": {
             "outlinewidth": 0,
             "ticks": ""
            },
            "colorscale": [
             [
              0,
              "#0d0887"
             ],
             [
              0.1111111111111111,
              "#46039f"
             ],
             [
              0.2222222222222222,
              "#7201a8"
             ],
             [
              0.3333333333333333,
              "#9c179e"
             ],
             [
              0.4444444444444444,
              "#bd3786"
             ],
             [
              0.5555555555555556,
              "#d8576b"
             ],
             [
              0.6666666666666666,
              "#ed7953"
             ],
             [
              0.7777777777777778,
              "#fb9f3a"
             ],
             [
              0.8888888888888888,
              "#fdca26"
             ],
             [
              1,
              "#f0f921"
             ]
            ],
            "type": "contour"
           }
          ],
          "contourcarpet": [
           {
            "colorbar": {
             "outlinewidth": 0,
             "ticks": ""
            },
            "type": "contourcarpet"
           }
          ],
          "heatmap": [
           {
            "colorbar": {
             "outlinewidth": 0,
             "ticks": ""
            },
            "colorscale": [
             [
              0,
              "#0d0887"
             ],
             [
              0.1111111111111111,
              "#46039f"
             ],
             [
              0.2222222222222222,
              "#7201a8"
             ],
             [
              0.3333333333333333,
              "#9c179e"
             ],
             [
              0.4444444444444444,
              "#bd3786"
             ],
             [
              0.5555555555555556,
              "#d8576b"
             ],
             [
              0.6666666666666666,
              "#ed7953"
             ],
             [
              0.7777777777777778,
              "#fb9f3a"
             ],
             [
              0.8888888888888888,
              "#fdca26"
             ],
             [
              1,
              "#f0f921"
             ]
            ],
            "type": "heatmap"
           }
          ],
          "histogram": [
           {
            "marker": {
             "pattern": {
              "fillmode": "overlay",
              "size": 10,
              "solidity": 0.2
             }
            },
            "type": "histogram"
           }
          ],
          "histogram2d": [
           {
            "colorbar": {
             "outlinewidth": 0,
             "ticks": ""
            },
            "colorscale": [
             [
              0,
              "#0d0887"
             ],
             [
              0.1111111111111111,
              "#46039f"
             ],
             [
              0.2222222222222222,
              "#7201a8"
             ],
             [
              0.3333333333333333,
              "#9c179e"
             ],
             [
              0.4444444444444444,
              "#bd3786"
             ],
             [
              0.5555555555555556,
              "#d8576b"
             ],
             [
              0.6666666666666666,
              "#ed7953"
             ],
             [
              0.7777777777777778,
              "#fb9f3a"
             ],
             [
              0.8888888888888888,
              "#fdca26"
             ],
             [
              1,
              "#f0f921"
             ]
            ],
            "type": "histogram2d"
           }
          ],
          "histogram2dcontour": [
           {
            "colorbar": {
             "outlinewidth": 0,
             "ticks": ""
            },
            "colorscale": [
             [
              0,
              "#0d0887"
             ],
             [
              0.1111111111111111,
              "#46039f"
             ],
             [
              0.2222222222222222,
              "#7201a8"
             ],
             [
              0.3333333333333333,
              "#9c179e"
             ],
             [
              0.4444444444444444,
              "#bd3786"
             ],
             [
              0.5555555555555556,
              "#d8576b"
             ],
             [
              0.6666666666666666,
              "#ed7953"
             ],
             [
              0.7777777777777778,
              "#fb9f3a"
             ],
             [
              0.8888888888888888,
              "#fdca26"
             ],
             [
              1,
              "#f0f921"
             ]
            ],
            "type": "histogram2dcontour"
           }
          ],
          "mesh3d": [
           {
            "colorbar": {
             "outlinewidth": 0,
             "ticks": ""
            },
            "type": "mesh3d"
           }
          ],
          "parcoords": [
           {
            "line": {
             "colorbar": {
              "outlinewidth": 0,
              "ticks": ""
             }
            },
            "type": "parcoords"
           }
          ],
          "pie": [
           {
            "automargin": true,
            "type": "pie"
           }
          ],
          "scatter": [
           {
            "fillpattern": {
             "fillmode": "overlay",
             "size": 10,
             "solidity": 0.2
            },
            "type": "scatter"
           }
          ],
          "scatter3d": [
           {
            "line": {
             "colorbar": {
              "outlinewidth": 0,
              "ticks": ""
             }
            },
            "marker": {
             "colorbar": {
              "outlinewidth": 0,
              "ticks": ""
             }
            },
            "type": "scatter3d"
           }
          ],
          "scattercarpet": [
           {
            "marker": {
             "colorbar": {
              "outlinewidth": 0,
              "ticks": ""
             }
            },
            "type": "scattercarpet"
           }
          ],
          "scattergeo": [
           {
            "marker": {
             "colorbar": {
              "outlinewidth": 0,
              "ticks": ""
             }
            },
            "type": "scattergeo"
           }
          ],
          "scattergl": [
           {
            "marker": {
             "colorbar": {
              "outlinewidth": 0,
              "ticks": ""
             }
            },
            "type": "scattergl"
           }
          ],
          "scattermap": [
           {
            "marker": {
             "colorbar": {
              "outlinewidth": 0,
              "ticks": ""
             }
            },
            "type": "scattermap"
           }
          ],
          "scattermapbox": [
           {
            "marker": {
             "colorbar": {
              "outlinewidth": 0,
              "ticks": ""
             }
            },
            "type": "scattermapbox"
           }
          ],
          "scatterpolar": [
           {
            "marker": {
             "colorbar": {
              "outlinewidth": 0,
              "ticks": ""
             }
            },
            "type": "scatterpolar"
           }
          ],
          "scatterpolargl": [
           {
            "marker": {
             "colorbar": {
              "outlinewidth": 0,
              "ticks": ""
             }
            },
            "type": "scatterpolargl"
           }
          ],
          "scatterternary": [
           {
            "marker": {
             "colorbar": {
              "outlinewidth": 0,
              "ticks": ""
             }
            },
            "type": "scatterternary"
           }
          ],
          "surface": [
           {
            "colorbar": {
             "outlinewidth": 0,
             "ticks": ""
            },
            "colorscale": [
             [
              0,
              "#0d0887"
             ],
             [
              0.1111111111111111,
              "#46039f"
             ],
             [
              0.2222222222222222,
              "#7201a8"
             ],
             [
              0.3333333333333333,
              "#9c179e"
             ],
             [
              0.4444444444444444,
              "#bd3786"
             ],
             [
              0.5555555555555556,
              "#d8576b"
             ],
             [
              0.6666666666666666,
              "#ed7953"
             ],
             [
              0.7777777777777778,
              "#fb9f3a"
             ],
             [
              0.8888888888888888,
              "#fdca26"
             ],
             [
              1,
              "#f0f921"
             ]
            ],
            "type": "surface"
           }
          ],
          "table": [
           {
            "cells": {
             "fill": {
              "color": "#EBF0F8"
             },
             "line": {
              "color": "white"
             }
            },
            "header": {
             "fill": {
              "color": "#C8D4E3"
             },
             "line": {
              "color": "white"
             }
            },
            "type": "table"
           }
          ]
         },
         "layout": {
          "annotationdefaults": {
           "arrowcolor": "#2a3f5f",
           "arrowhead": 0,
           "arrowwidth": 1
          },
          "autotypenumbers": "strict",
          "coloraxis": {
           "colorbar": {
            "outlinewidth": 0,
            "ticks": ""
           }
          },
          "colorscale": {
           "diverging": [
            [
             0,
             "#8e0152"
            ],
            [
             0.1,
             "#c51b7d"
            ],
            [
             0.2,
             "#de77ae"
            ],
            [
             0.3,
             "#f1b6da"
            ],
            [
             0.4,
             "#fde0ef"
            ],
            [
             0.5,
             "#f7f7f7"
            ],
            [
             0.6,
             "#e6f5d0"
            ],
            [
             0.7,
             "#b8e186"
            ],
            [
             0.8,
             "#7fbc41"
            ],
            [
             0.9,
             "#4d9221"
            ],
            [
             1,
             "#276419"
            ]
           ],
           "sequential": [
            [
             0,
             "#0d0887"
            ],
            [
             0.1111111111111111,
             "#46039f"
            ],
            [
             0.2222222222222222,
             "#7201a8"
            ],
            [
             0.3333333333333333,
             "#9c179e"
            ],
            [
             0.4444444444444444,
             "#bd3786"
            ],
            [
             0.5555555555555556,
             "#d8576b"
            ],
            [
             0.6666666666666666,
             "#ed7953"
            ],
            [
             0.7777777777777778,
             "#fb9f3a"
            ],
            [
             0.8888888888888888,
             "#fdca26"
            ],
            [
             1,
             "#f0f921"
            ]
           ],
           "sequentialminus": [
            [
             0,
             "#0d0887"
            ],
            [
             0.1111111111111111,
             "#46039f"
            ],
            [
             0.2222222222222222,
             "#7201a8"
            ],
            [
             0.3333333333333333,
             "#9c179e"
            ],
            [
             0.4444444444444444,
             "#bd3786"
            ],
            [
             0.5555555555555556,
             "#d8576b"
            ],
            [
             0.6666666666666666,
             "#ed7953"
            ],
            [
             0.7777777777777778,
             "#fb9f3a"
            ],
            [
             0.8888888888888888,
             "#fdca26"
            ],
            [
             1,
             "#f0f921"
            ]
           ]
          },
          "colorway": [
           "#636efa",
           "#EF553B",
           "#00cc96",
           "#ab63fa",
           "#FFA15A",
           "#19d3f3",
           "#FF6692",
           "#B6E880",
           "#FF97FF",
           "#FECB52"
          ],
          "font": {
           "color": "#2a3f5f"
          },
          "geo": {
           "bgcolor": "white",
           "lakecolor": "white",
           "landcolor": "#E5ECF6",
           "showlakes": true,
           "showland": true,
           "subunitcolor": "white"
          },
          "hoverlabel": {
           "align": "left"
          },
          "hovermode": "closest",
          "mapbox": {
           "style": "light"
          },
          "paper_bgcolor": "white",
          "plot_bgcolor": "#E5ECF6",
          "polar": {
           "angularaxis": {
            "gridcolor": "white",
            "linecolor": "white",
            "ticks": ""
           },
           "bgcolor": "#E5ECF6",
           "radialaxis": {
            "gridcolor": "white",
            "linecolor": "white",
            "ticks": ""
           }
          },
          "scene": {
           "xaxis": {
            "backgroundcolor": "#E5ECF6",
            "gridcolor": "white",
            "gridwidth": 2,
            "linecolor": "white",
            "showbackground": true,
            "ticks": "",
            "zerolinecolor": "white"
           },
           "yaxis": {
            "backgroundcolor": "#E5ECF6",
            "gridcolor": "white",
            "gridwidth": 2,
            "linecolor": "white",
            "showbackground": true,
            "ticks": "",
            "zerolinecolor": "white"
           },
           "zaxis": {
            "backgroundcolor": "#E5ECF6",
            "gridcolor": "white",
            "gridwidth": 2,
            "linecolor": "white",
            "showbackground": true,
            "ticks": "",
            "zerolinecolor": "white"
           }
          },
          "shapedefaults": {
           "line": {
            "color": "#2a3f5f"
           }
          },
          "ternary": {
           "aaxis": {
            "gridcolor": "white",
            "linecolor": "white",
            "ticks": ""
           },
           "baxis": {
            "gridcolor": "white",
            "linecolor": "white",
            "ticks": ""
           },
           "bgcolor": "#E5ECF6",
           "caxis": {
            "gridcolor": "white",
            "linecolor": "white",
            "ticks": ""
           }
          },
          "title": {
           "x": 0.05
          },
          "xaxis": {
           "automargin": true,
           "gridcolor": "white",
           "linecolor": "white",
           "ticks": "",
           "title": {
            "standoff": 15
           },
           "zerolinecolor": "white",
           "zerolinewidth": 2
          },
          "yaxis": {
           "automargin": true,
           "gridcolor": "white",
           "linecolor": "white",
           "ticks": "",
           "title": {
            "standoff": 15
           },
           "zerolinecolor": "white",
           "zerolinewidth": 2
          }
         }
        }
       }
      }
     },
     "metadata": {},
     "output_type": "display_data"
    }
   ],
   "source": [
    "#Visao BOVESPA\n",
    "grafico = go.Figure(\n",
    "    data=[\n",
    "        go.Candlestick(\n",
    "            x= dados.index,\n",
    "            open = dados['Abertura'],\n",
    "            high = dados['Maior'],\n",
    "            low = dados['Menor'],\n",
    "            close = dados['Fechamento']\n",
    "        )\n",
    "    ]\n",
    ")\n",
    "grafico.show()"
   ]
  },
  {
   "cell_type": "code",
   "execution_count": null,
   "id": "0c2f1347",
   "metadata": {},
   "outputs": [],
   "source": []
  },
  {
   "cell_type": "code",
   "execution_count": null,
   "id": "f7886743",
   "metadata": {},
   "outputs": [],
   "source": []
  }
 ],
 "metadata": {
  "kernelspec": {
   "display_name": "Python 3",
   "language": "python",
   "name": "python3"
  },
  "language_info": {
   "codemirror_mode": {
    "name": "ipython",
    "version": 3
   },
   "file_extension": ".py",
   "mimetype": "text/x-python",
   "name": "python",
   "nbconvert_exporter": "python",
   "pygments_lexer": "ipython3",
   "version": "3.12.6"
  }
 },
 "nbformat": 4,
 "nbformat_minor": 5
}
